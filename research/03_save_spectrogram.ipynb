{
 "cells": [
  {
   "cell_type": "code",
   "execution_count": 4,
   "metadata": {
    "tags": []
   },
   "outputs": [],
   "source": [
    "import os\n",
    "import librosa\n",
    "import librosa.display\n",
    "import matplotlib.pyplot as plt\n",
    "import numpy as np\n",
    "import cv2\n",
    "from tqdm import tqdm"
   ]
  },
  {
   "cell_type": "code",
   "execution_count": 1,
   "metadata": {
    "tags": []
   },
   "outputs": [],
   "source": [
    "threshold = -40"
   ]
  },
  {
   "cell_type": "code",
   "execution_count": 2,
   "metadata": {
    "tags": []
   },
   "outputs": [],
   "source": [
    "# https://www.kaggle.com/code/muhammadfauzannafiz/save-mel-spectrogram-v2\n",
    "\n",
    "def sound_wave_to_mel_spectrogram(sound_wave, sample_rate, spec_h=227, spec_w=227, duration=None, fmin = 0, fmax=8000):\n",
    "    NUM_MELS = spec_h\n",
    "    HOP_LENGTH = int(sample_rate * duration / (spec_w - 1)) if duration else int(sample_rate / (spec_w - 1))\n",
    "    mel_spec = librosa.feature.melspectrogram(y=sound_wave, sr=sample_rate, hop_length=HOP_LENGTH, n_mels=NUM_MELS, fmin = fmin ,fmax=fmax)\n",
    "    mel_spec_db = librosa.power_to_db(mel_spec, ref=np.max)\n",
    "    mel_spec_db[mel_spec_db < threshold] = threshold\n",
    "    return mel_spec_db\n",
    "\n",
    "def read_sound_wave(file_path, duration=None):\n",
    "    sound_wave, sample_rate = librosa.load(file_path, sr=None, duration=duration)\n",
    "    return sound_wave, sample_rate\n",
    "\n",
    "\n",
    "def audio_segment_to_mel_spectrogram_rgb_227(audio_path, output_dir, spec_w, spec_h, duration=None):\n",
    "\n",
    "    # Load the audio file\n",
    "    y, sr = read_sound_wave(audio_path, duration=duration)\n",
    "\n",
    "    # Generate mel-spectrogram\n",
    "    # mel_spectrogram = librosa.feature.melspectrogram(y=y, sr=sr)\n",
    "\n",
    "    # # Convert to decibels\n",
    "    # mel_spec = librosa.power_to_db(mel_spectrogram, ref=np.max)\n",
    "    # mel_spec[mel_spec < -40] = -40\n",
    "    mel_spec = sound_wave_to_mel_spectrogram(y, sr, spec_w = spec_w, spec_h = spec_h, duration=duration)\n",
    "\n",
    "    # Plot mel-spectrogram without axes, title, or colorbar\n",
    "    plt.figure(figsize=(spec_h/300, spec_h/300), dpi=300)\n",
    "    librosa.display.specshow(mel_spec, sr=sr, x_axis='time', y_axis='mel')\n",
    "    plt.axis('off')\n",
    "        \n",
    "    # Get the original audio file name without extension\n",
    "    audio_filename = os.path.splitext(os.path.basename(audio_path))[0]\n",
    "    \n",
    "    # Save the image with the same name as the audio file\n",
    "    output_image_path = os.path.join(output_dir, f'{audio_filename}.png')\n",
    "    plt.savefig(output_image_path, bbox_inches='tight', pad_inches=0)\n",
    "    plt.close()\n",
    "    \n",
    "    # Load the saved image\n",
    "    log_S = cv2.imread(output_image_path)\n",
    "\n",
    "    # Resize the image using cv2.resize\n",
    "    log_S_resized = cv2.resize(log_S, (spec_w, spec_h), interpolation=cv2.INTER_CUBIC)\n",
    "\n",
    "    # Save the resized image\n",
    "    cv2.imwrite(output_image_path, log_S_resized)\n",
    "\n",
    "def process_directory_structure(base_directory, img_width=227, img_height=227):\n",
    "    for root, dirs, files in os.walk(base_directory):\n",
    "        if 'denoised' in root and 'segmented_audio' in root:\n",
    "            # Determine the corresponding melspectrogram denoised path\n",
    "            base_path = root.split(os.sep)\n",
    "            if 'segmented_audio' in base_path:\n",
    "                seg_idx = base_path.index('segmented_audio')\n",
    "                melspectrogram_path_parts = base_path[:seg_idx] + ['melspectrogram', 'denoised'] + base_path[seg_idx + 2:]\n",
    "                melspectrogram_path = os.sep.join(melspectrogram_path_parts)\n",
    "\n",
    "                for file in tqdm(files, desc=f\"Processing {root}\"):\n",
    "                    if file.endswith('.wav'):\n",
    "                        input_path = os.path.join(root, file)\n",
    "                        output_dir = melspectrogram_path\n",
    "                        os.makedirs(output_dir, exist_ok=True)\n",
    "                        \n",
    "                        audio_segment_to_mel_spectrogram_rgb_227(input_path, output_dir, img_width, img_height)\n",
    "                        # print(f\"Saved melspectrogram for {input_path} to {output_dir}\")\n"
   ]
  },
  {
   "cell_type": "code",
   "execution_count": 5,
   "metadata": {
    "tags": []
   },
   "outputs": [
    {
     "name": "stderr",
     "output_type": "stream",
     "text": [
      "Processing /home/jupyter/data/processed/uncertain/segmented_audio/denoised: 100%|██████████| 94/94 [00:22<00:00,  4.11it/s]\n",
      "Processing /home/jupyter/data/processed/uncertain/segmented_audio/denoised/.ipynb_checkpoints: 0it [00:00, ?it/s]\n"
     ]
    }
   ],
   "source": [
    "# Example usage\n",
    "# base_directory = '/home/jupyter/data/test_data'\n",
    "base_directory = '/home/jupyter/data/processed/uncertain'\n",
    "process_directory_structure(base_directory)           "
   ]
  },
  {
   "cell_type": "markdown",
   "metadata": {},
   "source": [
    "# Another method\n",
    "https://www.kaggle.com/code/ritvik1909/speech-classification-spectrogram-cnn\n"
   ]
  },
  {
   "cell_type": "code",
   "execution_count": 41,
   "metadata": {},
   "outputs": [
    {
     "name": "stderr",
     "output_type": "stream",
     "text": [
      "Processing /Users/abhishek/colossal/data/processed/pacific_imperial_pigeon/segmented_audio/denoised: 0it [00:00, ?it/s]\n",
      "Processing /Users/abhishek/colossal/data/processed/pacific_imperial_pigeon/segmented_audio/denoised/many_color_fruit_dove: 100%|██████████| 8/8 [00:00<00:00, 23.43it/s]\n",
      "Processing /Users/abhishek/colossal/data/processed/pacific_imperial_pigeon/segmented_audio/denoised/samoan_starling: 100%|██████████| 21/21 [00:00<00:00, 22.71it/s]\n",
      "Processing /Users/abhishek/colossal/data/processed/pacific_imperial_pigeon/segmented_audio/denoised/Ducula: 100%|██████████| 140/140 [00:06<00:00, 20.35it/s]\n",
      "Processing /Users/abhishek/colossal/data/processed/pacific_imperial_pigeon/segmented_audio/denoised/samoan_whistler: 100%|██████████| 23/23 [00:00<00:00, 27.08it/s]\n",
      "Processing /Users/abhishek/colossal/data/processed/pacific_imperial_pigeon/segmented_audio/denoised/eastern_wattled_honeyeater: 100%|██████████| 123/123 [00:04<00:00, 25.20it/s]\n",
      "Processing /Users/abhishek/colossal/data/processed/white_throated_pigeon/segmented_audio/denoised: 0it [00:00, ?it/s]\n",
      "Processing /Users/abhishek/colossal/data/processed/white_throated_pigeon/segmented_audio/denoised/many_color_fruit_dove: 100%|██████████| 11/11 [00:00<00:00, 27.80it/s]\n",
      "Processing /Users/abhishek/colossal/data/processed/white_throated_pigeon/segmented_audio/denoised/Ducula: 100%|██████████| 3/3 [00:00<00:00, 22.53it/s]\n",
      "Processing /Users/abhishek/colossal/data/processed/white_throated_pigeon/segmented_audio/denoised/white_throated_pigeon: 100%|██████████| 96/96 [00:03<00:00, 25.94it/s]\n",
      "Processing /Users/abhishek/colossal/data/processed/white_throated_pigeon/segmented_audio/denoised/crimson_crowned_fruit_dove: 100%|██████████| 58/58 [00:02<00:00, 25.58it/s]\n",
      "Processing /Users/abhishek/colossal/data/processed/white_throated_pigeon/segmented_audio/denoised/eastern_wattled_honeyeater: 100%|██████████| 11/11 [00:00<00:00, 25.53it/s]\n",
      "Processing /Users/abhishek/colossal/data/processed/tooth_billed_pigeon/segmented_audio/denoised: 0it [00:00, ?it/s]\n",
      "Processing /Users/abhishek/colossal/data/processed/tooth_billed_pigeon/segmented_audio/denoised/samoan_starling: 100%|██████████| 18/18 [00:00<00:00, 27.54it/s]\n",
      "Processing /Users/abhishek/colossal/data/processed/tooth_billed_pigeon/segmented_audio/denoised/flat_billed_kingfisher: 100%|██████████| 45/45 [00:01<00:00, 27.68it/s]\n",
      "Processing /Users/abhishek/colossal/data/processed/tooth_billed_pigeon/segmented_audio/denoised/tooth_billed_pigeon: 100%|██████████| 120/120 [00:04<00:00, 26.56it/s]\n",
      "Processing /Users/abhishek/colossal/data/processed/tooth_billed_pigeon/segmented_audio/denoised/crimson_crowned_fruit_dove: 100%|██████████| 22/22 [00:00<00:00, 27.21it/s]\n",
      "Processing /Users/abhishek/colossal/data/processed/tooth_billed_pigeon/segmented_audio/denoised/eastern_wattled_honeyeater: 100%|██████████| 171/171 [00:06<00:00, 26.96it/s]\n"
     ]
    }
   ],
   "source": [
    "import os\n",
    "import librosa\n",
    "import librosa.display\n",
    "import matplotlib.pyplot as plt\n",
    "import numpy as np\n",
    "from tqdm import tqdm\n",
    "\n",
    "def sound_wave_to_mel_spectrogram(sound_wave, sample_rate, spec_h=256, spec_w=256, length=1):\n",
    "    NUM_MELS = spec_h\n",
    "    HOP_LENGTH = int(sample_rate * length / (spec_w - 1)) \n",
    "    mel_spec = librosa.feature.melspectrogram(y=sound_wave, sr=sample_rate, hop_length=HOP_LENGTH, n_mels=NUM_MELS)\n",
    "    mel_spec_db = librosa.power_to_db(mel_spec, ref=np.max)\n",
    "    mel_spec_db[mel_spec_db < threshold] = threshold\n",
    "    return mel_spec_db\n",
    "\n",
    "def read_sound_wave(file_path, duration=None):\n",
    "    sound_wave, sample_rate = librosa.load(file_path, sr=None, duration=duration)\n",
    "    return sound_wave, sample_rate\n",
    "\n",
    "def process_directory_structure(base_directory, spec_h=128, spec_w=128, length=1):\n",
    "    for root, dirs, files in os.walk(base_directory):\n",
    "        if 'denoised' in root and 'segmented_audio' in root:\n",
    "            # Determine the corresponding melspectrogram denoised path\n",
    "            base_path = root.split(os.sep)\n",
    "            if 'segmented_audio' in base_path:\n",
    "                seg_idx = base_path.index('segmented_audio')\n",
    "                melspectrogram_path_parts = base_path[:seg_idx] + ['melspectrogram', 'denoised'] + base_path[seg_idx + 2:]\n",
    "                melspectrogram_path = os.sep.join(melspectrogram_path_parts)\n",
    "\n",
    "                for file in tqdm(files, desc=f\"Processing {root}\"):\n",
    "                    if file.endswith('.wav'):\n",
    "                        input_path = os.path.join(root, file)\n",
    "                        output_dir = melspectrogram_path\n",
    "                        os.makedirs(output_dir, exist_ok=True)\n",
    "                        \n",
    "                        sound_wave, sample_rate = read_sound_wave(input_path)\n",
    "                        mel_spec_db = sound_wave_to_mel_spectrogram(sound_wave, sample_rate, spec_h, spec_w, length)\n",
    "                        \n",
    "                        # Save the spectrogram as an image\n",
    "                        output_path = os.path.join(output_dir, file.replace('.wav', '.png'))\n",
    "                        \n",
    "                        # Correcting the vertical flip by reversing the y-axis\n",
    "                        plt.figure(figsize=(spec_w / 300, spec_h / 300), dpi=300)\n",
    "                        librosa.display.specshow(mel_spec_db, sr=sample_rate, x_axis='time', y_axis='mel', cmap='gray_r')\n",
    "                        plt.axis('off')\n",
    "                        plt.savefig(output_path, bbox_inches='tight', pad_inches=0)\n",
    "                        plt.close()\n",
    "\n",
    "                        # print(f\"Saved melspectrogram for {input_path} to {output_path}\")\n",
    "\n",
    "# Example usage\n",
    "base_directory = '/Users/abhishek/colossal/data/processed/'\n",
    "process_directory_structure(base_directory)\n"
   ]
  },
  {
   "cell_type": "code",
   "execution_count": null,
   "metadata": {},
   "outputs": [],
   "source": []
  }
 ],
 "metadata": {
  "environment": {
   "kernel": "conda-env-audio-audio",
   "name": "workbench-notebooks.m122",
   "type": "gcloud",
   "uri": "us-docker.pkg.dev/deeplearning-platform-release/gcr.io/workbench-notebooks:m122"
  },
  "kernelspec": {
   "display_name": "audio (Local)",
   "language": "python",
   "name": "conda-env-audio-audio"
  },
  "language_info": {
   "codemirror_mode": {
    "name": "ipython",
    "version": 3
   },
   "file_extension": ".py",
   "mimetype": "text/x-python",
   "name": "python",
   "nbconvert_exporter": "python",
   "pygments_lexer": "ipython3",
   "version": "3.11.0"
  }
 },
 "nbformat": 4,
 "nbformat_minor": 4
}
