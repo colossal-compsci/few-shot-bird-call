{
 "cells": [
  {
   "cell_type": "markdown",
   "id": "7e287e64-e913-48a5-85e1-820a172947f2",
   "metadata": {},
   "source": [
    "In this notebook we'll load the bridnet model, load the raw files, generate embeddings and make predictions on the embeddings"
   ]
  },
  {
   "cell_type": "code",
   "execution_count": null,
   "id": "16fffd19-e3bb-4cc6-9aef-44f665c16702",
   "metadata": {
    "tags": []
   },
   "outputs": [],
   "source": []
  },
  {
   "cell_type": "code",
   "execution_count": 5,
   "id": "e2833659-0bb2-40b0-a673-46efef439c57",
   "metadata": {
    "tags": []
   },
   "outputs": [],
   "source": [
    "import numpy as np\n",
    "import pandas as pd\n",
    "import os"
   ]
  },
  {
   "cell_type": "code",
   "execution_count": 6,
   "id": "b9ef7c1c-c6b0-496b-a1f8-0f932daff225",
   "metadata": {
    "tags": []
   },
   "outputs": [],
   "source": [
    "embedding_folder = '/home/jupyter/research/models'"
   ]
  },
  {
   "cell_type": "code",
   "execution_count": 7,
   "id": "69b7b417-086c-45a5-9990-7c1fd2749f77",
   "metadata": {
    "tags": []
   },
   "outputs": [],
   "source": [
    "test_embedding_folder = '/home/jupyter/research/test_embeddings'"
   ]
  },
  {
   "cell_type": "code",
   "execution_count": 8,
   "id": "380ef627-8050-4058-826f-a979616023d3",
   "metadata": {
    "tags": []
   },
   "outputs": [],
   "source": [
    "raw_df = pd.read_csv('/home/jupyter/research/raw_data.csv')\n",
    "raw_df = raw_df.rename(columns={\"filename\": \"Filename\"})"
   ]
  },
  {
   "cell_type": "code",
   "execution_count": 11,
   "id": "8aaabc16-5c38-411c-9985-4452b543d505",
   "metadata": {
    "tags": []
   },
   "outputs": [],
   "source": [
    "model_names = ['bvc', 'birdnet-realtime']\n"
   ]
  },
  {
   "cell_type": "code",
   "execution_count": 12,
   "id": "6517470c-29ff-4b8e-8191-db0fdd8ef3d4",
   "metadata": {
    "tags": []
   },
   "outputs": [],
   "source": [
    "def load_embeddings_labels(model_folder,model_name):\n",
    "    embeddings = np.load(os.path.join(model_folder,model_name+'_embeddings.npy'))\n",
    "    labels = np.load(os.path.join(model_folder,model_name+'_labels.npy'))\n",
    "    return embeddings, labels"
   ]
  },
  {
   "cell_type": "code",
   "execution_count": 13,
   "id": "717e1f56-bdcb-4749-b01a-b44175e5e718",
   "metadata": {
    "tags": []
   },
   "outputs": [],
   "source": [
    "model_embeddings = {}\n",
    "model_labels = {}\n",
    "\n",
    "for model in model_names:\n",
    "    model_embeddings[model],model_labels[model] = load_embeddings_labels(embedding_folder,model)\n",
    "    "
   ]
  },
  {
   "cell_type": "code",
   "execution_count": 14,
   "id": "bd7109a1-5546-451e-a6e7-6fa518b24c2d",
   "metadata": {
    "tags": []
   },
   "outputs": [],
   "source": [
    "unk_filenames = np.load(os.path.join(test_embedding_folder,'unk_filenames.npy'))"
   ]
  },
  {
   "cell_type": "code",
   "execution_count": 15,
   "id": "b48380b6-099c-4ee6-ba73-0254b515a0b4",
   "metadata": {
    "tags": []
   },
   "outputs": [],
   "source": [
    "unk_embeddings = {}\n",
    "\n",
    "for model in model_names:\n",
    "    unk_embeddings[model],_ = load_embeddings_labels(test_embedding_folder,model)"
   ]
  },
  {
   "cell_type": "code",
   "execution_count": 116,
   "id": "6032acec-13b6-4bd6-bc83-65d2f8ebbba7",
   "metadata": {
    "tags": []
   },
   "outputs": [],
   "source": [
    "import numpy as np\n",
    "import pandas as pd\n",
    "from sklearn.decomposition import TruncatedSVD,PCA\n",
    "from sklearn.preprocessing import normalize,StandardScaler\n",
    "from sklearn.metrics.pairwise import cosine_similarity\n",
    "from sklearn.metrics.pairwise import euclidean_distances\n",
    "from sklearn.metrics.pairwise import rbf_kernel\n",
    "\n",
    "\n",
    "\n",
    "# Function to normalize embeddings using L2 normalization\n",
    "def normalize_embeddings(embeddings):\n",
    "    return normalize(embeddings, axis=1, norm='l2')\n",
    "\n",
    "# Function to convert similarity scores to probabilities using softmax\n",
    "def softmax(scores):\n",
    "    exp_scores = np.exp(scores - np.max(scores, axis=1, keepdims=True))  # Subtract max for numerical stability\n",
    "    return exp_scores / np.sum(exp_scores, axis=1, keepdims=True)\n",
    "\n",
    "# Calculate prototypes using median or trimmed mean\n",
    "def calculate_prototypes(embeddings, labels, use_median=True):\n",
    "    unique_labels = np.unique(labels)\n",
    "    prototypes = {}\n",
    "    for label in unique_labels:\n",
    "        label_embeddings = embeddings[labels == label]\n",
    "        if use_median:\n",
    "            prototypes[label] = np.median(label_embeddings, axis=0, keepdims=True)\n",
    "        else:\n",
    "            # Trimmed mean: remove the highest and lowest 10% of values\n",
    "            sorted_embeddings = np.sort(label_embeddings, axis=0)\n",
    "            trim_fraction = int(0.1 * label_embeddings.shape[0])\n",
    "            trimmed_embeddings = sorted_embeddings[trim_fraction:-trim_fraction]\n",
    "            prototypes[label] = np.mean(trimmed_embeddings, axis=0, keepdims=True)\n",
    "    return prototypes\n",
    "\n",
    "\n",
    "def calculate_prototype_matrix(prototypes):\n",
    "    # Flatten prototype dictionary to arrays\n",
    "    prototype_labels = []\n",
    "    prototype_matrix = []\n",
    "    for label, center in prototypes.items():\n",
    "        prototype_labels.append(label)\n",
    "        prototype_matrix.append(center)\n",
    "    prototype_matrix = np.array(prototype_matrix).squeeze()\n",
    "    return prototype_matrix,prototype_labels\n",
    "\n",
    "\n",
    "\n",
    "def bird_classifier(target_embeddings, prototypes,unknown_files, threshold=0.24):\n",
    "    \n",
    "    prototype_matrix,prototype_labels = calculate_prototype_matrix(prototypes)\n",
    "    \n",
    "    # Compute cosine similarity between new embeddings and prototypes\n",
    "    similarities = cosine_similarity(target_embeddings, prototype_matrix)\n",
    "\n",
    "    # Convert similarities to probabilities\n",
    "    probabilities = softmax(similarities)\n",
    "\n",
    "    # Assign labels and calculate confidence scores based on the highest probability\n",
    "    predicted_labels = []\n",
    "    confidence_scores = []\n",
    "    for prob in probabilities:\n",
    "        max_prob = np.max(prob)\n",
    "        if max_prob >= threshold:\n",
    "            predicted_label = prototype_labels[np.argmax(prob)]\n",
    "        else:\n",
    "            predicted_label = 'unknown'\n",
    "        predicted_labels.append(predicted_label)\n",
    "        confidence_scores.append(max_prob)\n",
    "\n",
    "    # Create a DataFrame to store the results\n",
    "    results_df = pd.DataFrame({\n",
    "        'Filename': [filename.split('/')[-1] for filename in unknown_files],\n",
    "        'Predicted Label': predicted_labels,\n",
    "        'Confidence Score': confidence_scores,\n",
    "        'Probabilities': list(probabilities)\n",
    "    })\n",
    "    return results_df\n",
    "\n",
    "def make_prediction(known_embeddings,known_labels,unknown_embeddings,unknown_files,n_components=142):\n",
    "    \n",
    "    # normalized_known_embeddings = normalize_embeddings(known_embeddings)\n",
    "    # scaler = StandardScaler()\n",
    "    # known_embeddings = scaler.fit_transform(known_embeddings)\n",
    "\n",
    "    # Apply Truncated SVD to reduce dimensionality\n",
    "    # reduce = TruncatedSVD(n_components=n_components)  # Reduce to 50 dimensions\n",
    "    reduce = PCA(n_components=n_components)  # Reduce to 50 dimensions\n",
    "\n",
    "    reduced_embeddings = reduce.fit_transform(known_embeddings)\n",
    "    \n",
    "    # Normalize known embeddings\n",
    "    reduced_embeddings = normalize_embeddings(reduced_embeddings)\n",
    "\n",
    "    prototypes = calculate_prototypes(reduced_embeddings, known_labels)\n",
    "\n",
    "    # unknown_embeddings = normalize_embeddings(unknown_embeddings)\n",
    "\n",
    "    # Example new bird sound embeddings (to classify)\n",
    "    # unknown_embeddings = scaler.transform(unknown_embeddings)\n",
    "\n",
    "    reduced_new_embeddings = reduce.transform(unknown_embeddings)\n",
    "    reduced_new_embeddings = normalize_embeddings(reduced_new_embeddings)\n",
    "    \n",
    "    # results_df = similarity_based_classifier(reduced_new_embeddings,prototypes,unknown_files)\n",
    "\n",
    "\n",
    "    results_df = bird_classifier(reduced_new_embeddings,prototypes,unknown_files)\n",
    "    return results_df\n",
    "\n"
   ]
  },
  {
   "cell_type": "code",
   "execution_count": 117,
   "id": "926db77f-71f4-465f-9412-ea06d53add1b",
   "metadata": {
    "tags": []
   },
   "outputs": [],
   "source": [
    "df = {}\n",
    "for model in model_names:\n",
    "    df[model] = make_prediction(model_embeddings[model],model_labels['bvc'],unk_embeddings[model],unk_filenames)"
   ]
  },
  {
   "cell_type": "code",
   "execution_count": 118,
   "id": "05ca8baf-cf99-4849-9bd5-d6b1ba2f39a6",
   "metadata": {
    "tags": []
   },
   "outputs": [
    {
     "data": {
      "text/html": [
       "<div>\n",
       "<style scoped>\n",
       "    .dataframe tbody tr th:only-of-type {\n",
       "        vertical-align: middle;\n",
       "    }\n",
       "\n",
       "    .dataframe tbody tr th {\n",
       "        vertical-align: top;\n",
       "    }\n",
       "\n",
       "    .dataframe thead th {\n",
       "        text-align: right;\n",
       "    }\n",
       "</style>\n",
       "<table border=\"1\" class=\"dataframe\">\n",
       "  <thead>\n",
       "    <tr style=\"text-align: right;\">\n",
       "      <th></th>\n",
       "      <th>Filename</th>\n",
       "      <th>Predicted Label</th>\n",
       "      <th>Confidence Score</th>\n",
       "      <th>Probabilities</th>\n",
       "    </tr>\n",
       "  </thead>\n",
       "  <tbody>\n",
       "    <tr>\n",
       "      <th>0</th>\n",
       "      <td>Magiagi Feb 2022_20211115_160004_17930_18450.wav</td>\n",
       "      <td>crimson_crowned_fruit_dove</td>\n",
       "      <td>0.277438</td>\n",
       "      <td>[0.27743775, 0.11521832, 0.14347143, 0.1224848...</td>\n",
       "    </tr>\n",
       "    <tr>\n",
       "      <th>1</th>\n",
       "      <td>139904_Macaulay_Doug Pratt_96120_96920.wav</td>\n",
       "      <td>white_throated_pigeon</td>\n",
       "      <td>0.268487</td>\n",
       "      <td>[0.15248972, 0.11578435, 0.21266748, 0.1130581...</td>\n",
       "    </tr>\n",
       "    <tr>\n",
       "      <th>2</th>\n",
       "      <td>Magiagi Feb 2022_20211115_160004_138210_138720...</td>\n",
       "      <td>crimson_crowned_fruit_dove</td>\n",
       "      <td>0.264560</td>\n",
       "      <td>[0.26455992, 0.10610789, 0.13001342, 0.1298450...</td>\n",
       "    </tr>\n",
       "    <tr>\n",
       "      <th>3</th>\n",
       "      <td>161361541 Macaulay_Diana Novoa_42810_44100.wav</td>\n",
       "      <td>tooth_billed_pigeon</td>\n",
       "      <td>0.261013</td>\n",
       "      <td>[0.18510735, 0.10373467, 0.15824708, 0.1006644...</td>\n",
       "    </tr>\n",
       "    <tr>\n",
       "      <th>4</th>\n",
       "      <td>Magiagi Feb 2022_20211115_160004_109410_110410...</td>\n",
       "      <td>tooth_billed_pigeon</td>\n",
       "      <td>0.276027</td>\n",
       "      <td>[0.17632392, 0.10116738, 0.16299866, 0.1031605...</td>\n",
       "    </tr>\n",
       "    <tr>\n",
       "      <th>...</th>\n",
       "      <td>...</td>\n",
       "      <td>...</td>\n",
       "      <td>...</td>\n",
       "      <td>...</td>\n",
       "    </tr>\n",
       "    <tr>\n",
       "      <th>89</th>\n",
       "      <td>Magiagi Feb 2022_20211115_160004_28430_29510.wav</td>\n",
       "      <td>crimson_crowned_fruit_dove</td>\n",
       "      <td>0.281415</td>\n",
       "      <td>[0.2814147, 0.104444325, 0.13445048, 0.1118944...</td>\n",
       "    </tr>\n",
       "    <tr>\n",
       "      <th>90</th>\n",
       "      <td>Magiagi Feb 2022_20211115_160004_78730_80730.wav</td>\n",
       "      <td>unknown</td>\n",
       "      <td>0.227571</td>\n",
       "      <td>[0.22757062, 0.107619666, 0.20281696, 0.108612...</td>\n",
       "    </tr>\n",
       "    <tr>\n",
       "      <th>91</th>\n",
       "      <td>Magiagi Feb 2022_20211115_160004_117040_118210...</td>\n",
       "      <td>unknown</td>\n",
       "      <td>0.222624</td>\n",
       "      <td>[0.21138287, 0.12065978, 0.16698669, 0.1271354...</td>\n",
       "    </tr>\n",
       "    <tr>\n",
       "      <th>92</th>\n",
       "      <td>Magiagi Feb 2022_20211115_160004_129690_130380...</td>\n",
       "      <td>crimson_crowned_fruit_dove</td>\n",
       "      <td>0.254897</td>\n",
       "      <td>[0.2548968, 0.116559856, 0.13331836, 0.1210505...</td>\n",
       "    </tr>\n",
       "    <tr>\n",
       "      <th>93</th>\n",
       "      <td>Magiagi Feb 2022_20211115_160004_100390_101100...</td>\n",
       "      <td>crimson_crowned_fruit_dove</td>\n",
       "      <td>0.297465</td>\n",
       "      <td>[0.2974647, 0.106230825, 0.1326199, 0.12570938...</td>\n",
       "    </tr>\n",
       "  </tbody>\n",
       "</table>\n",
       "<p>94 rows × 4 columns</p>\n",
       "</div>"
      ],
      "text/plain": [
       "                                             Filename  \\\n",
       "0    Magiagi Feb 2022_20211115_160004_17930_18450.wav   \n",
       "1          139904_Macaulay_Doug Pratt_96120_96920.wav   \n",
       "2   Magiagi Feb 2022_20211115_160004_138210_138720...   \n",
       "3      161361541 Macaulay_Diana Novoa_42810_44100.wav   \n",
       "4   Magiagi Feb 2022_20211115_160004_109410_110410...   \n",
       "..                                                ...   \n",
       "89   Magiagi Feb 2022_20211115_160004_28430_29510.wav   \n",
       "90   Magiagi Feb 2022_20211115_160004_78730_80730.wav   \n",
       "91  Magiagi Feb 2022_20211115_160004_117040_118210...   \n",
       "92  Magiagi Feb 2022_20211115_160004_129690_130380...   \n",
       "93  Magiagi Feb 2022_20211115_160004_100390_101100...   \n",
       "\n",
       "               Predicted Label  Confidence Score  \\\n",
       "0   crimson_crowned_fruit_dove          0.277438   \n",
       "1        white_throated_pigeon          0.268487   \n",
       "2   crimson_crowned_fruit_dove          0.264560   \n",
       "3          tooth_billed_pigeon          0.261013   \n",
       "4          tooth_billed_pigeon          0.276027   \n",
       "..                         ...               ...   \n",
       "89  crimson_crowned_fruit_dove          0.281415   \n",
       "90                     unknown          0.227571   \n",
       "91                     unknown          0.222624   \n",
       "92  crimson_crowned_fruit_dove          0.254897   \n",
       "93  crimson_crowned_fruit_dove          0.297465   \n",
       "\n",
       "                                        Probabilities  \n",
       "0   [0.27743775, 0.11521832, 0.14347143, 0.1224848...  \n",
       "1   [0.15248972, 0.11578435, 0.21266748, 0.1130581...  \n",
       "2   [0.26455992, 0.10610789, 0.13001342, 0.1298450...  \n",
       "3   [0.18510735, 0.10373467, 0.15824708, 0.1006644...  \n",
       "4   [0.17632392, 0.10116738, 0.16299866, 0.1031605...  \n",
       "..                                                ...  \n",
       "89  [0.2814147, 0.104444325, 0.13445048, 0.1118944...  \n",
       "90  [0.22757062, 0.107619666, 0.20281696, 0.108612...  \n",
       "91  [0.21138287, 0.12065978, 0.16698669, 0.1271354...  \n",
       "92  [0.2548968, 0.116559856, 0.13331836, 0.1210505...  \n",
       "93  [0.2974647, 0.106230825, 0.1326199, 0.12570938...  \n",
       "\n",
       "[94 rows x 4 columns]"
      ]
     },
     "execution_count": 118,
     "metadata": {},
     "output_type": "execute_result"
    }
   ],
   "source": [
    "df['bvc']"
   ]
  },
  {
   "cell_type": "code",
   "execution_count": 119,
   "id": "6c149dac-fc1f-45ef-b049-ba18d233cf62",
   "metadata": {
    "tags": []
   },
   "outputs": [
    {
     "data": {
      "text/html": [
       "<div>\n",
       "<style scoped>\n",
       "    .dataframe tbody tr th:only-of-type {\n",
       "        vertical-align: middle;\n",
       "    }\n",
       "\n",
       "    .dataframe tbody tr th {\n",
       "        vertical-align: top;\n",
       "    }\n",
       "\n",
       "    .dataframe thead th {\n",
       "        text-align: right;\n",
       "    }\n",
       "</style>\n",
       "<table border=\"1\" class=\"dataframe\">\n",
       "  <thead>\n",
       "    <tr style=\"text-align: right;\">\n",
       "      <th></th>\n",
       "      <th>Filename</th>\n",
       "      <th>Predicted Label</th>\n",
       "      <th>Confidence Score</th>\n",
       "      <th>Probabilities</th>\n",
       "    </tr>\n",
       "  </thead>\n",
       "  <tbody>\n",
       "    <tr>\n",
       "      <th>3</th>\n",
       "      <td>161361541 Macaulay_Diana Novoa_42810_44100.wav</td>\n",
       "      <td>tooth_billed_pigeon</td>\n",
       "      <td>0.261013</td>\n",
       "      <td>[0.18510735, 0.10373467, 0.15824708, 0.1006644...</td>\n",
       "    </tr>\n",
       "    <tr>\n",
       "      <th>4</th>\n",
       "      <td>Magiagi Feb 2022_20211115_160004_109410_110410...</td>\n",
       "      <td>tooth_billed_pigeon</td>\n",
       "      <td>0.276027</td>\n",
       "      <td>[0.17632392, 0.10116738, 0.16299866, 0.1031605...</td>\n",
       "    </tr>\n",
       "    <tr>\n",
       "      <th>11</th>\n",
       "      <td>161361541 Macaulay_Diana Novoa_13480_14890.wav</td>\n",
       "      <td>tooth_billed_pigeon</td>\n",
       "      <td>0.246194</td>\n",
       "      <td>[0.17933926, 0.102311246, 0.17051718, 0.096012...</td>\n",
       "    </tr>\n",
       "    <tr>\n",
       "      <th>17</th>\n",
       "      <td>Salelologa Aug 2021_f1842340352_780_1730.wav</td>\n",
       "      <td>tooth_billed_pigeon</td>\n",
       "      <td>0.257961</td>\n",
       "      <td>[0.15003756, 0.09790067, 0.15818079, 0.0983597...</td>\n",
       "    </tr>\n",
       "    <tr>\n",
       "      <th>27</th>\n",
       "      <td>Salelologa Aug 2021_f1842340352_3160_4500.wav</td>\n",
       "      <td>tooth_billed_pigeon</td>\n",
       "      <td>0.246591</td>\n",
       "      <td>[0.15162341, 0.096397795, 0.1867544, 0.0914612...</td>\n",
       "    </tr>\n",
       "    <tr>\n",
       "      <th>32</th>\n",
       "      <td>Salelologa Aug 2021_f1842340352_6060_7340.wav</td>\n",
       "      <td>tooth_billed_pigeon</td>\n",
       "      <td>0.298887</td>\n",
       "      <td>[0.14790006, 0.102443695, 0.15574147, 0.097238...</td>\n",
       "    </tr>\n",
       "    <tr>\n",
       "      <th>67</th>\n",
       "      <td>139904_Macaulay_Doug Pratt_69250_70370.wav</td>\n",
       "      <td>tooth_billed_pigeon</td>\n",
       "      <td>0.240034</td>\n",
       "      <td>[0.17254594, 0.117148295, 0.15330055, 0.113505...</td>\n",
       "    </tr>\n",
       "    <tr>\n",
       "      <th>74</th>\n",
       "      <td>139904_Macaulay_Doug Pratt_32360_33550.wav</td>\n",
       "      <td>tooth_billed_pigeon</td>\n",
       "      <td>0.249185</td>\n",
       "      <td>[0.14940548, 0.09882024, 0.19414389, 0.0938701...</td>\n",
       "    </tr>\n",
       "    <tr>\n",
       "      <th>75</th>\n",
       "      <td>139904_Macaulay_Doug Pratt_19130_20400.wav</td>\n",
       "      <td>tooth_billed_pigeon</td>\n",
       "      <td>0.288199</td>\n",
       "      <td>[0.16448109, 0.107022285, 0.14889812, 0.105326...</td>\n",
       "    </tr>\n",
       "    <tr>\n",
       "      <th>80</th>\n",
       "      <td>139904_Macaulay_Doug Pratt_48450_49650.wav</td>\n",
       "      <td>tooth_billed_pigeon</td>\n",
       "      <td>0.275901</td>\n",
       "      <td>[0.16962472, 0.11029375, 0.14702696, 0.1083872...</td>\n",
       "    </tr>\n",
       "  </tbody>\n",
       "</table>\n",
       "</div>"
      ],
      "text/plain": [
       "                                             Filename      Predicted Label  \\\n",
       "3      161361541 Macaulay_Diana Novoa_42810_44100.wav  tooth_billed_pigeon   \n",
       "4   Magiagi Feb 2022_20211115_160004_109410_110410...  tooth_billed_pigeon   \n",
       "11     161361541 Macaulay_Diana Novoa_13480_14890.wav  tooth_billed_pigeon   \n",
       "17       Salelologa Aug 2021_f1842340352_780_1730.wav  tooth_billed_pigeon   \n",
       "27      Salelologa Aug 2021_f1842340352_3160_4500.wav  tooth_billed_pigeon   \n",
       "32      Salelologa Aug 2021_f1842340352_6060_7340.wav  tooth_billed_pigeon   \n",
       "67         139904_Macaulay_Doug Pratt_69250_70370.wav  tooth_billed_pigeon   \n",
       "74         139904_Macaulay_Doug Pratt_32360_33550.wav  tooth_billed_pigeon   \n",
       "75         139904_Macaulay_Doug Pratt_19130_20400.wav  tooth_billed_pigeon   \n",
       "80         139904_Macaulay_Doug Pratt_48450_49650.wav  tooth_billed_pigeon   \n",
       "\n",
       "    Confidence Score                                      Probabilities  \n",
       "3           0.261013  [0.18510735, 0.10373467, 0.15824708, 0.1006644...  \n",
       "4           0.276027  [0.17632392, 0.10116738, 0.16299866, 0.1031605...  \n",
       "11          0.246194  [0.17933926, 0.102311246, 0.17051718, 0.096012...  \n",
       "17          0.257961  [0.15003756, 0.09790067, 0.15818079, 0.0983597...  \n",
       "27          0.246591  [0.15162341, 0.096397795, 0.1867544, 0.0914612...  \n",
       "32          0.298887  [0.14790006, 0.102443695, 0.15574147, 0.097238...  \n",
       "67          0.240034  [0.17254594, 0.117148295, 0.15330055, 0.113505...  \n",
       "74          0.249185  [0.14940548, 0.09882024, 0.19414389, 0.0938701...  \n",
       "75          0.288199  [0.16448109, 0.107022285, 0.14889812, 0.105326...  \n",
       "80          0.275901  [0.16962472, 0.11029375, 0.14702696, 0.1083872...  "
      ]
     },
     "execution_count": 119,
     "metadata": {},
     "output_type": "execute_result"
    }
   ],
   "source": [
    "df['bvc'][df['bvc']['Predicted Label'] == 'tooth_billed_pigeon']"
   ]
  },
  {
   "cell_type": "code",
   "execution_count": 120,
   "id": "af743ddd-8429-4cbf-bd21-3b66694d6420",
   "metadata": {
    "tags": []
   },
   "outputs": [],
   "source": [
    "# df['birdnet-realtime'][:50]"
   ]
  },
  {
   "cell_type": "code",
   "execution_count": 121,
   "id": "5e804d9d-771c-41f1-8796-eb2e5b966c06",
   "metadata": {
    "tags": []
   },
   "outputs": [],
   "source": [
    "# raw_df"
   ]
  },
  {
   "cell_type": "code",
   "execution_count": 122,
   "id": "8d8ccd9d-e9fb-4e30-aa42-6899bc27983f",
   "metadata": {
    "tags": []
   },
   "outputs": [],
   "source": [
    "def tbp_files(raw,pred):\n",
    "    df = raw.merge(pred, how='inner', on='Filename')\n",
    "    # return df\n",
    "    return df[df['Predicted Label'] == 'tooth_billed_pigeon']"
   ]
  },
  {
   "cell_type": "code",
   "execution_count": null,
   "id": "19d51627-2db4-40a3-8f4d-1488a099d0b2",
   "metadata": {
    "tags": []
   },
   "outputs": [],
   "source": []
  },
  {
   "cell_type": "code",
   "execution_count": 123,
   "id": "e9944e6c-0551-4a08-a998-726da2d46269",
   "metadata": {
    "tags": []
   },
   "outputs": [
    {
     "data": {
      "text/html": [
       "<div>\n",
       "<style scoped>\n",
       "    .dataframe tbody tr th:only-of-type {\n",
       "        vertical-align: middle;\n",
       "    }\n",
       "\n",
       "    .dataframe tbody tr th {\n",
       "        vertical-align: top;\n",
       "    }\n",
       "\n",
       "    .dataframe thead th {\n",
       "        text-align: right;\n",
       "    }\n",
       "</style>\n",
       "<table border=\"1\" class=\"dataframe\">\n",
       "  <thead>\n",
       "    <tr style=\"text-align: right;\">\n",
       "      <th></th>\n",
       "      <th>Filename</th>\n",
       "      <th>label</th>\n",
       "      <th>newname</th>\n",
       "      <th>Predicted Label</th>\n",
       "      <th>Confidence Score</th>\n",
       "      <th>Probabilities</th>\n",
       "    </tr>\n",
       "  </thead>\n",
       "  <tbody>\n",
       "    <tr>\n",
       "      <th>0</th>\n",
       "      <td>Salelologa Aug 2021_f1842340352_6060_7340.wav</td>\n",
       "      <td>TBP</td>\n",
       "      <td>file2.wav</td>\n",
       "      <td>tooth_billed_pigeon</td>\n",
       "      <td>0.298887</td>\n",
       "      <td>[0.14790006, 0.102443695, 0.15574147, 0.097238...</td>\n",
       "    </tr>\n",
       "    <tr>\n",
       "      <th>1</th>\n",
       "      <td>Salelologa Aug 2021_f1842340352_780_1730.wav</td>\n",
       "      <td>TBP</td>\n",
       "      <td>file15.wav</td>\n",
       "      <td>tooth_billed_pigeon</td>\n",
       "      <td>0.257961</td>\n",
       "      <td>[0.15003756, 0.09790067, 0.15818079, 0.0983597...</td>\n",
       "    </tr>\n",
       "    <tr>\n",
       "      <th>2</th>\n",
       "      <td>Magiagi Feb 2022_20211115_160004_109410_110410...</td>\n",
       "      <td>TBP</td>\n",
       "      <td>file29.wav</td>\n",
       "      <td>tooth_billed_pigeon</td>\n",
       "      <td>0.276027</td>\n",
       "      <td>[0.17632392, 0.10116738, 0.16299866, 0.1031605...</td>\n",
       "    </tr>\n",
       "    <tr>\n",
       "      <th>3</th>\n",
       "      <td>139904_Macaulay_Doug Pratt_48450_49650.wav</td>\n",
       "      <td>TBP</td>\n",
       "      <td>file27.wav</td>\n",
       "      <td>tooth_billed_pigeon</td>\n",
       "      <td>0.275901</td>\n",
       "      <td>[0.16962472, 0.11029375, 0.14702696, 0.1083872...</td>\n",
       "    </tr>\n",
       "    <tr>\n",
       "      <th>4</th>\n",
       "      <td>139904_Macaulay_Doug Pratt_32360_33550.wav</td>\n",
       "      <td>TBP</td>\n",
       "      <td>file6.wav</td>\n",
       "      <td>tooth_billed_pigeon</td>\n",
       "      <td>0.249185</td>\n",
       "      <td>[0.14940548, 0.09882024, 0.19414389, 0.0938701...</td>\n",
       "    </tr>\n",
       "    <tr>\n",
       "      <th>10</th>\n",
       "      <td>Salelologa Aug 2021_f1842340352_3160_4500.wav</td>\n",
       "      <td>PIP</td>\n",
       "      <td>file16.wav</td>\n",
       "      <td>tooth_billed_pigeon</td>\n",
       "      <td>0.246591</td>\n",
       "      <td>[0.15162341, 0.096397795, 0.1867544, 0.0914612...</td>\n",
       "    </tr>\n",
       "  </tbody>\n",
       "</table>\n",
       "</div>"
      ],
      "text/plain": [
       "                                             Filename label     newname  \\\n",
       "0       Salelologa Aug 2021_f1842340352_6060_7340.wav   TBP   file2.wav   \n",
       "1        Salelologa Aug 2021_f1842340352_780_1730.wav   TBP  file15.wav   \n",
       "2   Magiagi Feb 2022_20211115_160004_109410_110410...   TBP  file29.wav   \n",
       "3          139904_Macaulay_Doug Pratt_48450_49650.wav   TBP  file27.wav   \n",
       "4          139904_Macaulay_Doug Pratt_32360_33550.wav   TBP   file6.wav   \n",
       "10      Salelologa Aug 2021_f1842340352_3160_4500.wav   PIP  file16.wav   \n",
       "\n",
       "        Predicted Label  Confidence Score  \\\n",
       "0   tooth_billed_pigeon          0.298887   \n",
       "1   tooth_billed_pigeon          0.257961   \n",
       "2   tooth_billed_pigeon          0.276027   \n",
       "3   tooth_billed_pigeon          0.275901   \n",
       "4   tooth_billed_pigeon          0.249185   \n",
       "10  tooth_billed_pigeon          0.246591   \n",
       "\n",
       "                                        Probabilities  \n",
       "0   [0.14790006, 0.102443695, 0.15574147, 0.097238...  \n",
       "1   [0.15003756, 0.09790067, 0.15818079, 0.0983597...  \n",
       "2   [0.17632392, 0.10116738, 0.16299866, 0.1031605...  \n",
       "3   [0.16962472, 0.11029375, 0.14702696, 0.1083872...  \n",
       "4   [0.14940548, 0.09882024, 0.19414389, 0.0938701...  \n",
       "10  [0.15162341, 0.096397795, 0.1867544, 0.0914612...  "
      ]
     },
     "execution_count": 123,
     "metadata": {},
     "output_type": "execute_result"
    }
   ],
   "source": [
    "tbp_files(raw_df,df['bvc'])"
   ]
  },
  {
   "cell_type": "code",
   "execution_count": 124,
   "id": "6bfdf9e4-9a06-4965-8977-9004693b14f6",
   "metadata": {
    "tags": []
   },
   "outputs": [
    {
     "data": {
      "text/html": [
       "<div>\n",
       "<style scoped>\n",
       "    .dataframe tbody tr th:only-of-type {\n",
       "        vertical-align: middle;\n",
       "    }\n",
       "\n",
       "    .dataframe tbody tr th {\n",
       "        vertical-align: top;\n",
       "    }\n",
       "\n",
       "    .dataframe thead th {\n",
       "        text-align: right;\n",
       "    }\n",
       "</style>\n",
       "<table border=\"1\" class=\"dataframe\">\n",
       "  <thead>\n",
       "    <tr style=\"text-align: right;\">\n",
       "      <th></th>\n",
       "      <th>Filename</th>\n",
       "      <th>label</th>\n",
       "      <th>newname</th>\n",
       "      <th>Predicted Label</th>\n",
       "      <th>Confidence Score</th>\n",
       "      <th>Probabilities</th>\n",
       "    </tr>\n",
       "  </thead>\n",
       "  <tbody>\n",
       "    <tr>\n",
       "      <th>0</th>\n",
       "      <td>Salelologa Aug 2021_f1842340352_6060_7340.wav</td>\n",
       "      <td>TBP</td>\n",
       "      <td>file2.wav</td>\n",
       "      <td>tooth_billed_pigeon</td>\n",
       "      <td>0.270024</td>\n",
       "      <td>[0.11682873, 0.09451293, 0.2550566, 0.08368677...</td>\n",
       "    </tr>\n",
       "    <tr>\n",
       "      <th>1</th>\n",
       "      <td>Salelologa Aug 2021_f1842340352_780_1730.wav</td>\n",
       "      <td>TBP</td>\n",
       "      <td>file15.wav</td>\n",
       "      <td>tooth_billed_pigeon</td>\n",
       "      <td>0.250763</td>\n",
       "      <td>[0.13465588, 0.09215642, 0.21721469, 0.0807294...</td>\n",
       "    </tr>\n",
       "    <tr>\n",
       "      <th>2</th>\n",
       "      <td>Magiagi Feb 2022_20211115_160004_109410_110410...</td>\n",
       "      <td>TBP</td>\n",
       "      <td>file29.wav</td>\n",
       "      <td>tooth_billed_pigeon</td>\n",
       "      <td>0.244597</td>\n",
       "      <td>[0.18722245, 0.10237674, 0.1648269, 0.09557710...</td>\n",
       "    </tr>\n",
       "    <tr>\n",
       "      <th>3</th>\n",
       "      <td>139904_Macaulay_Doug Pratt_48450_49650.wav</td>\n",
       "      <td>TBP</td>\n",
       "      <td>file27.wav</td>\n",
       "      <td>tooth_billed_pigeon</td>\n",
       "      <td>0.245682</td>\n",
       "      <td>[0.1756551, 0.10736873, 0.17343406, 0.10600608...</td>\n",
       "    </tr>\n",
       "    <tr>\n",
       "      <th>26</th>\n",
       "      <td>Magiagi Feb 2022_20211115_160004_23500_25500.wav</td>\n",
       "      <td>CCFD</td>\n",
       "      <td>file8.wav</td>\n",
       "      <td>tooth_billed_pigeon</td>\n",
       "      <td>0.249449</td>\n",
       "      <td>[0.21512276, 0.1030356, 0.18075225, 0.09419096...</td>\n",
       "    </tr>\n",
       "  </tbody>\n",
       "</table>\n",
       "</div>"
      ],
      "text/plain": [
       "                                             Filename label     newname  \\\n",
       "0       Salelologa Aug 2021_f1842340352_6060_7340.wav   TBP   file2.wav   \n",
       "1        Salelologa Aug 2021_f1842340352_780_1730.wav   TBP  file15.wav   \n",
       "2   Magiagi Feb 2022_20211115_160004_109410_110410...   TBP  file29.wav   \n",
       "3          139904_Macaulay_Doug Pratt_48450_49650.wav   TBP  file27.wav   \n",
       "26   Magiagi Feb 2022_20211115_160004_23500_25500.wav  CCFD   file8.wav   \n",
       "\n",
       "        Predicted Label  Confidence Score  \\\n",
       "0   tooth_billed_pigeon          0.270024   \n",
       "1   tooth_billed_pigeon          0.250763   \n",
       "2   tooth_billed_pigeon          0.244597   \n",
       "3   tooth_billed_pigeon          0.245682   \n",
       "26  tooth_billed_pigeon          0.249449   \n",
       "\n",
       "                                        Probabilities  \n",
       "0   [0.11682873, 0.09451293, 0.2550566, 0.08368677...  \n",
       "1   [0.13465588, 0.09215642, 0.21721469, 0.0807294...  \n",
       "2   [0.18722245, 0.10237674, 0.1648269, 0.09557710...  \n",
       "3   [0.1756551, 0.10736873, 0.17343406, 0.10600608...  \n",
       "26  [0.21512276, 0.1030356, 0.18075225, 0.09419096...  "
      ]
     },
     "execution_count": 124,
     "metadata": {},
     "output_type": "execute_result"
    }
   ],
   "source": [
    "tbp_files(raw_df,df['birdnet-realtime'])"
   ]
  },
  {
   "cell_type": "code",
   "execution_count": 125,
   "id": "17eab73a-6096-4960-a562-c2a5fd12d616",
   "metadata": {
    "tags": []
   },
   "outputs": [
    {
     "data": {
      "text/html": [
       "<div>\n",
       "<style scoped>\n",
       "    .dataframe tbody tr th:only-of-type {\n",
       "        vertical-align: middle;\n",
       "    }\n",
       "\n",
       "    .dataframe tbody tr th {\n",
       "        vertical-align: top;\n",
       "    }\n",
       "\n",
       "    .dataframe thead th {\n",
       "        text-align: right;\n",
       "    }\n",
       "</style>\n",
       "<table border=\"1\" class=\"dataframe\">\n",
       "  <thead>\n",
       "    <tr style=\"text-align: right;\">\n",
       "      <th></th>\n",
       "      <th>Filename</th>\n",
       "      <th>Predicted Label</th>\n",
       "      <th>Confidence Score</th>\n",
       "      <th>Probabilities</th>\n",
       "    </tr>\n",
       "  </thead>\n",
       "  <tbody>\n",
       "    <tr>\n",
       "      <th>4</th>\n",
       "      <td>Magiagi Feb 2022_20211115_160004_109410_110410...</td>\n",
       "      <td>tooth_billed_pigeon</td>\n",
       "      <td>0.244597</td>\n",
       "      <td>[0.18722245, 0.10237674, 0.1648269, 0.09557710...</td>\n",
       "    </tr>\n",
       "    <tr>\n",
       "      <th>17</th>\n",
       "      <td>Salelologa Aug 2021_f1842340352_780_1730.wav</td>\n",
       "      <td>tooth_billed_pigeon</td>\n",
       "      <td>0.250763</td>\n",
       "      <td>[0.13465588, 0.09215642, 0.21721469, 0.0807294...</td>\n",
       "    </tr>\n",
       "    <tr>\n",
       "      <th>32</th>\n",
       "      <td>Salelologa Aug 2021_f1842340352_6060_7340.wav</td>\n",
       "      <td>tooth_billed_pigeon</td>\n",
       "      <td>0.270024</td>\n",
       "      <td>[0.11682873, 0.09451293, 0.2550566, 0.08368677...</td>\n",
       "    </tr>\n",
       "    <tr>\n",
       "      <th>42</th>\n",
       "      <td>Magiagi Feb 2022_20211115_160004_23500_25500.wav</td>\n",
       "      <td>tooth_billed_pigeon</td>\n",
       "      <td>0.249449</td>\n",
       "      <td>[0.21512276, 0.1030356, 0.18075225, 0.09419096...</td>\n",
       "    </tr>\n",
       "    <tr>\n",
       "      <th>80</th>\n",
       "      <td>139904_Macaulay_Doug Pratt_48450_49650.wav</td>\n",
       "      <td>tooth_billed_pigeon</td>\n",
       "      <td>0.245682</td>\n",
       "      <td>[0.1756551, 0.10736873, 0.17343406, 0.10600608...</td>\n",
       "    </tr>\n",
       "  </tbody>\n",
       "</table>\n",
       "</div>"
      ],
      "text/plain": [
       "                                             Filename      Predicted Label  \\\n",
       "4   Magiagi Feb 2022_20211115_160004_109410_110410...  tooth_billed_pigeon   \n",
       "17       Salelologa Aug 2021_f1842340352_780_1730.wav  tooth_billed_pigeon   \n",
       "32      Salelologa Aug 2021_f1842340352_6060_7340.wav  tooth_billed_pigeon   \n",
       "42   Magiagi Feb 2022_20211115_160004_23500_25500.wav  tooth_billed_pigeon   \n",
       "80         139904_Macaulay_Doug Pratt_48450_49650.wav  tooth_billed_pigeon   \n",
       "\n",
       "    Confidence Score                                      Probabilities  \n",
       "4           0.244597  [0.18722245, 0.10237674, 0.1648269, 0.09557710...  \n",
       "17          0.250763  [0.13465588, 0.09215642, 0.21721469, 0.0807294...  \n",
       "32          0.270024  [0.11682873, 0.09451293, 0.2550566, 0.08368677...  \n",
       "42          0.249449  [0.21512276, 0.1030356, 0.18075225, 0.09419096...  \n",
       "80          0.245682  [0.1756551, 0.10736873, 0.17343406, 0.10600608...  "
      ]
     },
     "execution_count": 125,
     "metadata": {},
     "output_type": "execute_result"
    }
   ],
   "source": [
    "df['birdnet-realtime'][df['birdnet-realtime']['Predicted Label'] == 'tooth_billed_pigeon']"
   ]
  },
  {
   "cell_type": "code",
   "execution_count": 521,
   "id": "3edcc81c-ace5-4c70-bff8-da5ffa2a167a",
   "metadata": {
    "tags": []
   },
   "outputs": [
    {
     "data": {
      "text/plain": [
       "[array([0.1169361 , 0.08716074, 0.28852677, 0.07849108, 0.18980937,\n",
       "        0.23907593], dtype=float32)]"
      ]
     },
     "execution_count": 521,
     "metadata": {},
     "output_type": "execute_result"
    }
   ],
   "source": [
    "df['bvc'][df['bvc']['Filename'] == 'WEST UAFATO SM304491_0+1_20160323_093808trim_21210_22500.wav']['Probabilities'].tolist()"
   ]
  },
  {
   "cell_type": "code",
   "execution_count": null,
   "id": "21d1cb3d-406c-4a5a-9ad6-aff347b6c20f",
   "metadata": {},
   "outputs": [],
   "source": []
  },
  {
   "cell_type": "code",
   "execution_count": null,
   "id": "88bf1b91-fdb7-46d7-8a5a-a434fbcfcd7d",
   "metadata": {},
   "outputs": [],
   "source": []
  },
  {
   "cell_type": "code",
   "execution_count": 104,
   "id": "36d660de-7028-4b12-be56-c0d808a2700c",
   "metadata": {
    "tags": []
   },
   "outputs": [
    {
     "data": {
      "text/plain": [
       "array(['crimson_crowned_fruit_dove', 'honeyeater',\n",
       "       'pacific_imperial_pigeon', 'samoan_starling',\n",
       "       'tooth_billed_pigeon', 'white_throated_pigeon'], dtype='<U26')"
      ]
     },
     "execution_count": 104,
     "metadata": {},
     "output_type": "execute_result"
    }
   ],
   "source": [
    "np.unique(model_labels['bvc'])"
   ]
  },
  {
   "cell_type": "code",
   "execution_count": null,
   "id": "f6623bb3-debf-4be4-afeb-0c10f30af736",
   "metadata": {},
   "outputs": [],
   "source": []
  },
  {
   "cell_type": "code",
   "execution_count": 29,
   "id": "90c2d515-45bb-4ad9-b1d8-692f1d3987db",
   "metadata": {},
   "outputs": [],
   "source": [
    "true_label = np.array([0,1,0,1,0,0,0,0,0,0,0,0,0,0,1,1,0,0,0,0,0,0,0,0,0,0,0,0])"
   ]
  },
  {
   "cell_type": "code",
   "execution_count": 35,
   "id": "a8e594af-4204-4745-a7c1-f25fdf0f52d3",
   "metadata": {},
   "outputs": [],
   "source": [
    "pred_label_perch = np.array([0,1,0,0,0,1,0,0,0,0,0,0,0,0,1,1,0,0,0,0,0,0,0,0,1,1,0,0])"
   ]
  },
  {
   "cell_type": "code",
   "execution_count": 40,
   "id": "8bab8232-175c-4678-a254-e9a5dca8f26b",
   "metadata": {},
   "outputs": [],
   "source": [
    "pred_label_birdnet = np.array([0,1,0,0,0,0,0,1,0,0,0,0,0,0,1,0,0,0,0,0,0,0,0,0,1,1,0,0])"
   ]
  },
  {
   "cell_type": "code",
   "execution_count": 48,
   "id": "f164edf9-4922-4cad-87d8-5bd18f06a372",
   "metadata": {
    "tags": []
   },
   "outputs": [],
   "source": [
    "from sklearn.metrics import f1_score, precision_score, recall_score, accuracy_score\n",
    "\n",
    "\n",
    "# Function to calculate and print metrics\n",
    "def calculate_metrics(true_labels, predicted_labels, method_name):\n",
    "    precision = precision_score(true_labels, predicted_labels)\n",
    "    recall = recall_score(true_labels, predicted_labels)\n",
    "    f1 = f1_score(true_labels, predicted_labels)\n",
    "    accuracy = accuracy_score(true_labels, predicted_labels)\n",
    "    \n",
    "    print(f\"Metrics for {method_name}:\")\n",
    "    print(f\"Precision: {precision:.2f}\")\n",
    "    print(f\"Recall: {recall:.2f}\")\n",
    "    print(f\"F1 Score: {f1:.2f}\")\n",
    "    print(f\"Accuracy: {accuracy:.2f}\")\n",
    "    print()"
   ]
  },
  {
   "cell_type": "code",
   "execution_count": 49,
   "id": "5764f0f7-eac0-4f53-b3af-f3afcc4f67f3",
   "metadata": {
    "tags": []
   },
   "outputs": [
    {
     "name": "stdout",
     "output_type": "stream",
     "text": [
      "Metrics for Perch:\n",
      "Precision: 0.50\n",
      "Recall: 0.75\n",
      "F1 Score: 0.60\n",
      "Accuracy: 0.86\n",
      "\n",
      "Metrics for BirdNET:\n",
      "Precision: 0.40\n",
      "Recall: 0.50\n",
      "F1 Score: 0.44\n",
      "Accuracy: 0.82\n",
      "\n"
     ]
    }
   ],
   "source": [
    "# Calculate metrics for pred_label_perch\n",
    "calculate_metrics(true_label, pred_label_perch, \"Perch\")\n",
    "\n",
    "# Calculate metrics for pred_label_birdnet\n",
    "calculate_metrics(true_label, pred_label_birdnet, \"BirdNET\")"
   ]
  },
  {
   "cell_type": "code",
   "execution_count": null,
   "id": "a90a0905-e78e-406f-8c1d-b3e878ea0078",
   "metadata": {},
   "outputs": [],
   "source": []
  }
 ],
 "metadata": {
  "environment": {
   "kernel": "pytorch_default",
   "name": "workbench-notebooks.m122",
   "type": "gcloud",
   "uri": "us-docker.pkg.dev/deeplearning-platform-release/gcr.io/workbench-notebooks:m122"
  },
  "kernelspec": {
   "display_name": "pytorch_default (Local)",
   "language": "python",
   "name": "pytorch_default"
  },
  "language_info": {
   "codemirror_mode": {
    "name": "ipython",
    "version": 3
   },
   "file_extension": ".py",
   "mimetype": "text/x-python",
   "name": "python",
   "nbconvert_exporter": "python",
   "pygments_lexer": "ipython3",
   "version": "3.10.0"
  }
 },
 "nbformat": 4,
 "nbformat_minor": 5
}
